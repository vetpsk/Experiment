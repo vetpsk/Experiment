{
 "cells": [
  {
   "cell_type": "code",
   "execution_count": 1,
   "id": "a3b156d3",
   "metadata": {},
   "outputs": [
    {
     "data": {
      "text/plain": [
       "'/Users/pranavkulkarni/SDM/main_repo/Climate_Models_Arenaviruses/Guan_SDM'"
      ]
     },
     "execution_count": 1,
     "metadata": {},
     "output_type": "execute_result"
    }
   ],
   "source": [
    "import numpy as np\n",
    "from scipy.integrate import odeint\n",
    "import rasterio\n",
    "import rasterio.mask\n",
    "import matplotlib.pyplot as plt\n",
    "import os\n",
    "\n",
    "# Directory set\n",
    "os.chdir(\"/Users/pranavkulkarni/SDM/main_repo/Climate_Models_Arenaviruses/Guan_SDM\")\n",
    "os.getcwd()\n",
    "\n"
   ]
  },
  {
   "cell_type": "code",
   "execution_count": 2,
   "id": "f29cfdd4",
   "metadata": {},
   "outputs": [],
   "source": [
    "# Define parameters\n",
    "beta0 = 0.5     # Transmission rate\n",
    "gamma = 0.1     # Recovery rate\n",
    "max_distance = 10  # Maximum distance for transmission\n",
    "\n"
   ]
  },
  {
   "cell_type": "code",
   "execution_count": null,
   "id": "27d1ca4c",
   "metadata": {},
   "outputs": [],
   "source": [
    "# Load your population density raster\n",
    "# Replace 'population_raster.tif' with the path to your population density raster file.\n",
    "with rasterio.open('population_raster.tif') as src:\n",
    "    population_raster = src.read(1)\n",
    "\n",
    "# Create a distance kernel function\n",
    "def distance_kernel(distance, max_distance):\n",
    "    if distance <= max_distance:\n",
    "        return 1\n",
    "    else:\n",
    "        return 0\n",
    "\n",
    "# Define the differential equations for the SIR model with distance kernel\n",
    "def sir_model(state, t, beta0, gamma, max_distance, population_raster):\n",
    "    S, I, R = state\n",
    "\n",
    "    # Get population density at current location\n",
    "    population_density = population_raster[int(S), int(I)]\n",
    "\n",
    "    dS = -beta0 * S * I / N * distance_kernel(1, max_distance) * population_density\n",
    "    dI = beta0 * S * I / N * distance_kernel(1, max_distance) * population_density - gamma * I\n",
    "    dR = gamma * I\n",
    "\n",
    "    return [dS, dI, dR]\n",
    "\n"
   ]
  },
  {
   "cell_type": "code",
   "execution_count": null,
   "id": "25d37080",
   "metadata": {},
   "outputs": [],
   "source": [
    "# Set the initial state\n",
    "N = np.sum(population_raster)\n",
    "initial_infected = 10\n",
    "initial_state = [N - initial_infected, initial_infected, 0]\n",
    "\n",
    "# Define time points\n",
    "times = np.arange(0, 101, 1)\n",
    "\n",
    "# Solve the differential equations\n",
    "output = odeint(sir_model, initial_state, times, args=(beta0, gamma, max_distance, population_raster))\n",
    "\n",
    "# Create a new raster to store the results\n",
    "result_raster = population_raster.copy()\n",
    "result_raster[:] = output[:, 1]  # Store the infected individuals at each location"
   ]
  },
  {
   "cell_type": "code",
   "execution_count": null,
   "id": "e0de229a",
   "metadata": {},
   "outputs": [],
   "source": [
    "# Plot the results\n",
    "plt.imshow(result_raster, cmap='Reds', origin='lower', extent=(0, result_raster.shape[1], 0, result_raster.shape[0))\n",
    "plt.colorbar(label='Infected Individuals')\n",
    "plt.title('Infected Individuals')\n",
    "plt.show()\n",
    "\n",
    "# Export the result as a GeoTIFF\n",
    "with rasterio.open('disease_transmission_results.tif', 'w', driver='GTiff', height=result_raster.shape[0], width=result_raster.shape[1], count=1, dtype=str(result_raster.dtype)) as dst:\n",
    "    dst.write(result_raster, 1)"
   ]
  }
 ],
 "metadata": {
  "kernelspec": {
   "display_name": "Python 3 (ipykernel)",
   "language": "python",
   "name": "python3"
  },
  "language_info": {
   "codemirror_mode": {
    "name": "ipython",
    "version": 3
   },
   "file_extension": ".py",
   "mimetype": "text/x-python",
   "name": "python",
   "nbconvert_exporter": "python",
   "pygments_lexer": "ipython3",
   "version": "3.11.5"
  }
 },
 "nbformat": 4,
 "nbformat_minor": 5
}
